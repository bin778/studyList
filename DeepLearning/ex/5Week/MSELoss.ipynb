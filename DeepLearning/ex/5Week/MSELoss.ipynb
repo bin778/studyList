{
 "cells": [
  {
   "cell_type": "code",
   "execution_count": 1,
   "id": "4e646887",
   "metadata": {},
   "outputs": [],
   "source": [
    "import torch\n",
    "import numpy as np"
   ]
  },
  {
   "cell_type": "code",
   "execution_count": 3,
   "id": "470494ab",
   "metadata": {},
   "outputs": [],
   "source": [
    "def mse(x_hat,x):\n",
    "    y=((x-x_hat)**2).mean()\n",
    "    return y"
   ]
  },
  {
   "cell_type": "code",
   "execution_count": 5,
   "id": "62d5e03a",
   "metadata": {},
   "outputs": [
    {
     "name": "stdout",
     "output_type": "stream",
     "text": [
      "tensor(2.5000)\n"
     ]
    }
   ],
   "source": [
    "x=torch.FloatTensor([[1,1],[2,2]])\n",
    "x_hat=torch.FloatTensor([[0,0],[0,0]])\n",
    "print(mse(x_hat,x))"
   ]
  },
  {
   "cell_type": "code",
   "execution_count": 6,
   "id": "e3add7d7",
   "metadata": {},
   "outputs": [
    {
     "data": {
      "text/plain": [
       "tensor(2.5000)"
      ]
     },
     "execution_count": 6,
     "metadata": {},
     "output_type": "execute_result"
    }
   ],
   "source": [
    "# torch.nn.functional 모듈\n",
    "import torch.nn.functional as F\n",
    "F.mse_loss(x_hat,x)"
   ]
  },
  {
   "cell_type": "code",
   "execution_count": 7,
   "id": "66b7a6fd",
   "metadata": {},
   "outputs": [
    {
     "data": {
      "text/plain": [
       "tensor(10.)"
      ]
     },
     "execution_count": 7,
     "metadata": {},
     "output_type": "execute_result"
    }
   ],
   "source": [
    "F.mse_loss(x_hat,x,reduction='sum')"
   ]
  },
  {
   "cell_type": "code",
   "execution_count": 9,
   "id": "39bb776f",
   "metadata": {},
   "outputs": [
    {
     "data": {
      "text/plain": [
       "tensor([[1., 1.],\n",
       "        [4., 4.]])"
      ]
     },
     "execution_count": 9,
     "metadata": {},
     "output_type": "execute_result"
    }
   ],
   "source": [
    "F.mse_loss(x_hat,x,reduction='none')"
   ]
  },
  {
   "cell_type": "code",
   "execution_count": 10,
   "id": "4e78b352",
   "metadata": {},
   "outputs": [
    {
     "data": {
      "text/plain": [
       "tensor(2.5000)"
      ]
     },
     "execution_count": 10,
     "metadata": {},
     "output_type": "execute_result"
    }
   ],
   "source": [
    "# torch.nn 모듈\n",
    "import torch.nn as nn\n",
    "mse_loss=nn.MSELoss()\n",
    "mse_loss(x_hat,x)"
   ]
  }
 ],
 "metadata": {
  "kernelspec": {
   "display_name": "Python 3 (ipykernel)",
   "language": "python",
   "name": "python3"
  },
  "language_info": {
   "codemirror_mode": {
    "name": "ipython",
    "version": 3
   },
   "file_extension": ".py",
   "mimetype": "text/x-python",
   "name": "python",
   "nbconvert_exporter": "python",
   "pygments_lexer": "ipython3",
   "version": "3.9.13"
  }
 },
 "nbformat": 4,
 "nbformat_minor": 5
}
