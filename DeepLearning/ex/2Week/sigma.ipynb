{
 "cells": [
  {
   "cell_type": "code",
   "execution_count": 8,
   "id": "411bd7f7",
   "metadata": {},
   "outputs": [
    {
     "name": "stdout",
     "output_type": "stream",
     "text": [
      "55\n"
     ]
    }
   ],
   "source": [
    "def sigma(x):\n",
    "    ret = 0\n",
    "    for x_i in x:\n",
    "        ret += x_i\n",
    "    \n",
    "    return ret\n",
    "\n",
    "x = [i + 1 for i in range(10)]\n",
    "\n",
    "print(sigma(x))"
   ]
  },
  {
   "cell_type": "code",
   "execution_count": 11,
   "id": "1059f5c3",
   "metadata": {},
   "outputs": [
    {
     "name": "stdout",
     "output_type": "stream",
     "text": [
      "120\n"
     ]
    }
   ],
   "source": [
    "def product(x):\n",
    "    ret = 1\n",
    "    for x_i in x:\n",
    "        ret *= x_i\n",
    "    \n",
    "    return ret\n",
    "\n",
    "x = [i + 1 for i in range(5)]\n",
    "\n",
    "print(product(x))"
   ]
  },
  {
   "cell_type": "code",
   "execution_count": null,
   "id": "ab981b2a",
   "metadata": {},
   "outputs": [],
   "source": []
  }
 ],
 "metadata": {
  "kernelspec": {
   "display_name": "Python 3 (ipykernel)",
   "language": "python",
   "name": "python3"
  },
  "language_info": {
   "codemirror_mode": {
    "name": "ipython",
    "version": 3
   },
   "file_extension": ".py",
   "mimetype": "text/x-python",
   "name": "python",
   "nbconvert_exporter": "python",
   "pygments_lexer": "ipython3",
   "version": "3.9.13"
  }
 },
 "nbformat": 4,
 "nbformat_minor": 5
}
