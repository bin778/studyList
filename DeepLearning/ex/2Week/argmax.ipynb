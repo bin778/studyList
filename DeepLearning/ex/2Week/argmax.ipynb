{
 "cells": [
  {
   "cell_type": "code",
   "execution_count": 12,
   "id": "e4be6edd",
   "metadata": {},
   "outputs": [
    {
     "name": "stdout",
     "output_type": "stream",
     "text": [
      "1\n"
     ]
    }
   ],
   "source": [
    "import numpy as np\n",
    "\n",
    "def argmax(target_func, X):\n",
    "    max_val = -np.inf\n",
    "    ret = None\n",
    "    for x in X:\n",
    "        val = f(x)\n",
    "        if val > max_val:\n",
    "            max_val = val\n",
    "            ret = x\n",
    "    \n",
    "    return ret\n",
    "\n",
    "X = [i + 1 for i in range(10)]\n",
    "\n",
    "def f(x):\n",
    "    return -np.log(x)\n",
    "\n",
    "print(argmax(f, X))"
   ]
  },
  {
   "cell_type": "code",
   "execution_count": null,
   "id": "bff7e0e7",
   "metadata": {},
   "outputs": [],
   "source": []
  }
 ],
 "metadata": {
  "kernelspec": {
   "display_name": "Python 3 (ipykernel)",
   "language": "python",
   "name": "python3"
  },
  "language_info": {
   "codemirror_mode": {
    "name": "ipython",
    "version": 3
   },
   "file_extension": ".py",
   "mimetype": "text/x-python",
   "name": "python",
   "nbconvert_exporter": "python",
   "pygments_lexer": "ipython3",
   "version": "3.9.13"
  }
 },
 "nbformat": 4,
 "nbformat_minor": 5
}
