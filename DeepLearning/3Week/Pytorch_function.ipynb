{
 "cells": [
  {
   "cell_type": "code",
   "execution_count": 1,
   "id": "a404186d",
   "metadata": {},
   "outputs": [],
   "source": [
    "import numpy as np\n",
    "import torch"
   ]
  },
  {
   "cell_type": "code",
   "execution_count": 2,
   "id": "2783ee4e",
   "metadata": {},
   "outputs": [
    {
     "name": "stdout",
     "output_type": "stream",
     "text": [
      "torch.Size([3, 2, 2])\n",
      "\n",
      "\n",
      "tensor([ 1.,  2.,  3.,  4.,  5.,  6.,  7.,  8.,  9., 10., 11., 12.])\n",
      "tensor([[ 1.,  2.,  3.,  4.],\n",
      "        [ 5.,  6.,  7.,  8.],\n",
      "        [ 9., 10., 11., 12.]])\n",
      "tensor([[[ 1.,  2.,  3.,  4.]],\n",
      "\n",
      "        [[ 5.,  6.,  7.,  8.]],\n",
      "\n",
      "        [[ 9., 10., 11., 12.]]])\n"
     ]
    }
   ],
   "source": [
    "# View 함수\n",
    "x=torch.FloatTensor([[[1,2],[3,4]],[[5,6],[7,8]],[[9,10],[11,12]]])\n",
    "print(x.size())\n",
    "\n",
    "print(\"\\n\")\n",
    "print(x.view(12)) # 12 = 3 * 2 * 2\n",
    "print(x.view(3, 4)) # 3 * 4 = 3 * 2 * 2\n",
    "print(x.view(3, 1, 4))"
   ]
  },
  {
   "cell_type": "code",
   "execution_count": 3,
   "id": "738d8bd0",
   "metadata": {},
   "outputs": [
    {
     "name": "stdout",
     "output_type": "stream",
     "text": [
      "tensor([ 1.,  2.,  3.,  4.,  5.,  6.,  7.,  8.,  9., 10., 11., 12.])\n",
      "tensor([[ 1.,  2.,  3.,  4.],\n",
      "        [ 5.,  6.,  7.,  8.],\n",
      "        [ 9., 10., 11., 12.]])\n",
      "tensor([[[ 1.,  2.,  3.,  4.]],\n",
      "\n",
      "        [[ 5.,  6.,  7.,  8.]],\n",
      "\n",
      "        [[ 9., 10., 11., 12.]]])\n"
     ]
    }
   ],
   "source": [
    "print(x.view(-1))\n",
    "print(x.view(3,-1))\n",
    "print(x.view(-1,1,4))"
   ]
  },
  {
   "cell_type": "code",
   "execution_count": 6,
   "id": "9b2938b4",
   "metadata": {},
   "outputs": [
    {
     "data": {
      "text/plain": [
       "True"
      ]
     },
     "execution_count": 6,
     "metadata": {},
     "output_type": "execute_result"
    }
   ],
   "source": [
    "y = x.view(3,4)\n",
    "x.storage().data_ptr() == y.storage().data_ptr()"
   ]
  },
  {
   "cell_type": "code",
   "execution_count": 7,
   "id": "cfc92c5d",
   "metadata": {},
   "outputs": [
    {
     "name": "stdout",
     "output_type": "stream",
     "text": [
      "torch.Size([1, 2, 2])\n",
      "tensor([[1., 2.],\n",
      "        [3., 4.]])\n",
      "torch.Size([2, 2])\n",
      "\n",
      "\n",
      "torch.Size([2, 2])\n",
      "torch.Size([1, 2, 2])\n"
     ]
    }
   ],
   "source": [
    "# Squeeze 함수\n",
    "x=torch.FloatTensor([[[1,2],[3,4]]])\n",
    "print(x.size())\n",
    "\n",
    "print(x.squeeze())\n",
    "print(x.squeeze().size())\n",
    "\n",
    "print(\"\\n\")\n",
    "print(x.squeeze(0).size())\n",
    "print(x.squeeze(1).size())"
   ]
  },
  {
   "cell_type": "code",
   "execution_count": 9,
   "id": "eb3303db",
   "metadata": {},
   "outputs": [
    {
     "name": "stdout",
     "output_type": "stream",
     "text": [
      "torch.Size([2, 2])\n",
      "\n",
      "\n",
      "torch.Size([2, 1, 2])\n",
      "torch.Size([2, 2, 1])\n",
      "torch.Size([2, 2, 1])\n"
     ]
    }
   ],
   "source": [
    "# Unsqueeze 함수\n",
    "x=torch.FloatTensor([[1,2],[3,4]])\n",
    "print(x.size())\n",
    "\n",
    "print(\"\\n\")\n",
    "print(x.unsqueeze(1).size())\n",
    "print(x.unsqueeze(-1).size())\n",
    "print(x.unsqueeze(2).size())"
   ]
  },
  {
   "cell_type": "code",
   "execution_count": 10,
   "id": "c2e1005b",
   "metadata": {},
   "outputs": [
    {
     "name": "stdout",
     "output_type": "stream",
     "text": [
      "torch.Size([2, 2, 1])\n"
     ]
    }
   ],
   "source": [
    "print(x.reshape(2,2,-1).size())"
   ]
  },
  {
   "cell_type": "code",
   "execution_count": 11,
   "id": "43dc3058",
   "metadata": {},
   "outputs": [
    {
     "name": "stdout",
     "output_type": "stream",
     "text": [
      "torch.Size([3, 2, 2])\n",
      "\n",
      "\n",
      "tensor([[1., 2.],\n",
      "        [3., 4.]])\n",
      "tensor([[ 9., 10.],\n",
      "        [11., 12.]])\n",
      "tensor([[ 1.,  2.],\n",
      "        [ 5.,  6.],\n",
      "        [ 9., 10.]])\n",
      "torch.Size([1, 1, 2])\n"
     ]
    }
   ],
   "source": [
    "# Tensor Indexing & Slicing\n",
    "x=torch.FloatTensor([[[1,2],[3,4]],[[5,6],[7,8]],[[9,10],[11,12]]])\n",
    "print(x.size())\n",
    "\n",
    "print(\"\\n\")\n",
    "print(x[0])\n",
    "print(x[-1])\n",
    "print(x[:,0])\n",
    "print(x[1:2,1:,:].size())"
   ]
  },
  {
   "cell_type": "code",
   "execution_count": 12,
   "id": "2caba204",
   "metadata": {},
   "outputs": [
    {
     "name": "stdout",
     "output_type": "stream",
     "text": [
      "torch.Size([4, 4])\n",
      "torch.Size([4, 4])\n",
      "torch.Size([2, 4])\n"
     ]
    }
   ],
   "source": [
    "# Tensor Split\n",
    "x=torch.FloatTensor(10,4)\n",
    "splits=x.split(4,dim=0)\n",
    "\n",
    "for s in splits:\n",
    "    print(s.size())"
   ]
  },
  {
   "cell_type": "code",
   "execution_count": 13,
   "id": "a203cbfa",
   "metadata": {},
   "outputs": [
    {
     "name": "stdout",
     "output_type": "stream",
     "text": [
      "torch.Size([4, 4])\n",
      "torch.Size([4, 4])\n",
      "torch.Size([2, 4])\n"
     ]
    }
   ],
   "source": [
    "# Tensor Chunk\n",
    "x=torch.FloatTensor(8,4)\n",
    "chunks=x.chunk(3,dim=0)\n",
    "\n",
    "for c in splits:\n",
    "    print(c.size())"
   ]
  },
  {
   "cell_type": "code",
   "execution_count": 15,
   "id": "8fcc5336",
   "metadata": {},
   "outputs": [
    {
     "name": "stdout",
     "output_type": "stream",
     "text": [
      "torch.Size([3, 2, 2])\n",
      "tensor([[[5., 5.],\n",
      "         [6., 6.]],\n",
      "\n",
      "        [[3., 3.],\n",
      "         [4., 4.]]])\n",
      "torch.Size([2, 2, 2])\n"
     ]
    }
   ],
   "source": [
    "# Index Select 함수\n",
    "x=torch.FloatTensor([[[1,1],[2,2]],[[3,3],[4,4]],[[5,5],[6,6]]])\n",
    "indice=torch.LongTensor([2,1])\n",
    "print(x.size())\n",
    "\n",
    "y=x.index_select(dim=0,index=indice)\n",
    "print(y)\n",
    "print(y.size())"
   ]
  },
  {
   "cell_type": "code",
   "execution_count": 16,
   "id": "e927433c",
   "metadata": {},
   "outputs": [
    {
     "name": "stdout",
     "output_type": "stream",
     "text": [
      "torch.Size([3, 3]) torch.Size([3, 3])\n",
      "tensor([[ 1.,  2.,  3.],\n",
      "        [ 4.,  5.,  6.],\n",
      "        [ 7.,  8.,  9.],\n",
      "        [10., 11., 12.],\n",
      "        [13., 14., 15.],\n",
      "        [16., 17., 18.]])\n",
      "torch.Size([6, 3])\n"
     ]
    }
   ],
   "source": [
    "x=torch.FloatTensor([[1,2,3],[4,5,6],[7,8,9]])\n",
    "y=torch.FloatTensor([[10,11,12],[13,14,15],[16,17,18]])\n",
    "\n",
    "print(x.size(),y.size())\n",
    "\n",
    "z=torch.cat([x,y],dim=0)\n",
    "print(z)\n",
    "print(z.size())"
   ]
  },
  {
   "cell_type": "code",
   "execution_count": 17,
   "id": "6ef2ab1f",
   "metadata": {},
   "outputs": [
    {
     "name": "stdout",
     "output_type": "stream",
     "text": [
      "tensor([[ 1.,  2.,  3., 10., 11., 12.],\n",
      "        [ 4.,  5.,  6., 13., 14., 15.],\n",
      "        [ 7.,  8.,  9., 16., 17., 18.]])\n",
      "torch.Size([3, 6])\n"
     ]
    }
   ],
   "source": [
    "z=torch.cat([x,y],dim=-1)\n",
    "print(z)\n",
    "print(z.size())"
   ]
  },
  {
   "cell_type": "code",
   "execution_count": 18,
   "id": "130bb289",
   "metadata": {},
   "outputs": [
    {
     "name": "stdout",
     "output_type": "stream",
     "text": [
      "tensor([[[ 1.,  2.,  3.],\n",
      "         [ 4.,  5.,  6.],\n",
      "         [ 7.,  8.,  9.]],\n",
      "\n",
      "        [[10., 11., 12.],\n",
      "         [13., 14., 15.],\n",
      "         [16., 17., 18.]]])\n",
      "torch.Size([2, 3, 3])\n",
      "\n",
      "\n",
      "tensor([[[ 1., 10.],\n",
      "         [ 2., 11.],\n",
      "         [ 3., 12.]],\n",
      "\n",
      "        [[ 4., 13.],\n",
      "         [ 5., 14.],\n",
      "         [ 6., 15.]],\n",
      "\n",
      "        [[ 7., 16.],\n",
      "         [ 8., 17.],\n",
      "         [ 9., 18.]]])\n",
      "torch.Size([3, 3, 2])\n"
     ]
    }
   ],
   "source": [
    "z=torch.stack([x,y])\n",
    "print(z)\n",
    "print(z.size())\n",
    "\n",
    "print(\"\\n\")\n",
    "z=torch.stack([x,y],dim=-1)\n",
    "print(z)\n",
    "print(z.size())"
   ]
  },
  {
   "cell_type": "code",
   "execution_count": 20,
   "id": "b3062ad6",
   "metadata": {},
   "outputs": [
    {
     "name": "stdout",
     "output_type": "stream",
     "text": [
      "tensor([[[ 1.,  2.,  3.],\n",
      "         [ 4.,  5.,  6.],\n",
      "         [ 7.,  8.,  9.]],\n",
      "\n",
      "        [[10., 11., 12.],\n",
      "         [13., 14., 15.],\n",
      "         [16., 17., 18.]]])\n",
      "torch.Size([2, 3, 3])\n"
     ]
    }
   ],
   "source": [
    "d=0\n",
    "z=torch.cat([x.unsqueeze(d),y.unsqueeze(d)],dim=d)\n",
    "print(z)\n",
    "print(z.size())"
   ]
  },
  {
   "cell_type": "code",
   "execution_count": 21,
   "id": "90539abf",
   "metadata": {},
   "outputs": [
    {
     "name": "stdout",
     "output_type": "stream",
     "text": [
      "tensor([[[6.0311e+00, 0.0000e+00],\n",
      "         [5.6052e-45, 0.0000e+00]],\n",
      "\n",
      "        [[9.1477e-41, 0.0000e+00],\n",
      "         [5.0447e-44, 0.0000e+00]],\n",
      "\n",
      "        [[0.0000e+00, 2.7812e+00],\n",
      "         [5.6258e-36, 5.7593e-43]],\n",
      "\n",
      "        [[1.5062e+01, 0.0000e+00],\n",
      "         [5.6052e-45, 0.0000e+00]],\n",
      "\n",
      "        [[1.2000e+01, 0.0000e+00],\n",
      "         [5.6268e-36, 5.7593e-43]]])\n"
     ]
    }
   ],
   "source": [
    "# stack 함수의 사용 예\n",
    "result=[]\n",
    "for i in range(5):\n",
    "    x=torch.FloatTensor(2,2)\n",
    "    result+=[x]\n",
    "\n",
    "result=torch.stack(result)\n",
    "\n",
    "print(result)"
   ]
  },
  {
   "cell_type": "code",
   "execution_count": 25,
   "id": "446a5fca",
   "metadata": {},
   "outputs": [
    {
     "name": "stdout",
     "output_type": "stream",
     "text": [
      "tensor([[[1., 2.],\n",
      "         [1., 2.],\n",
      "         [1., 2.]],\n",
      "\n",
      "        [[3., 4.],\n",
      "         [3., 4.],\n",
      "         [3., 4.]]])\n",
      "torch.Size([2, 3, 2])\n"
     ]
    }
   ],
   "source": [
    "# expand 함수\n",
    "x=torch.FloatTensor([[[1,2]],[[3,4]]])\n",
    "y=x.expand(2,3,2)\n",
    "\n",
    "print(y)\n",
    "print(y.size())"
   ]
  },
  {
   "cell_type": "code",
   "execution_count": 26,
   "id": "b6ddd134",
   "metadata": {},
   "outputs": [],
   "source": [
    "y = torch.cat([x] * 3,dim=1)"
   ]
  },
  {
   "cell_type": "code",
   "execution_count": 27,
   "id": "29211c05",
   "metadata": {},
   "outputs": [
    {
     "name": "stdout",
     "output_type": "stream",
     "text": [
      "tensor([9, 2, 6, 8, 4, 0, 3, 1, 5, 7])\n",
      "torch.Size([10])\n"
     ]
    }
   ],
   "source": [
    "# Random Permutation 함수\n",
    "x=torch.randperm(10)\n",
    "print(x)\n",
    "print(x.size())"
   ]
  },
  {
   "cell_type": "code",
   "execution_count": 28,
   "id": "295d6f71",
   "metadata": {},
   "outputs": [
    {
     "name": "stdout",
     "output_type": "stream",
     "text": [
      "tensor([[[11, 13, 19],\n",
      "         [18, 21,  1],\n",
      "         [ 9, 23,  4]],\n",
      "\n",
      "        [[16, 25, 15],\n",
      "         [ 3,  2, 24],\n",
      "         [14, 20, 26]],\n",
      "\n",
      "        [[12, 22,  8],\n",
      "         [ 5, 17,  0],\n",
      "         [ 7,  6, 10]]])\n",
      "torch.Size([3, 3, 3])\n"
     ]
    }
   ],
   "source": [
    "# Argument Max 함수\n",
    "x=torch.randperm(3**3).reshape(3,3,-1)\n",
    "print(x)\n",
    "print(x.size())"
   ]
  },
  {
   "cell_type": "code",
   "execution_count": 29,
   "id": "cad66d19",
   "metadata": {},
   "outputs": [
    {
     "name": "stdout",
     "output_type": "stream",
     "text": [
      "tensor([[2, 1, 1],\n",
      "        [1, 2, 2],\n",
      "        [1, 1, 2]])\n",
      "torch.Size([3, 3])\n"
     ]
    }
   ],
   "source": [
    "y=x.argmax(dim=-1)\n",
    "print(y)\n",
    "print(y.size())"
   ]
  },
  {
   "cell_type": "code",
   "execution_count": 30,
   "id": "29473818",
   "metadata": {},
   "outputs": [
    {
     "name": "stdout",
     "output_type": "stream",
     "text": [
      "torch.Size([3, 3, 1])\n",
      "torch.Size([3, 3, 1])\n",
      "\n",
      "\n",
      "torch.Size([3, 3, 2])\n"
     ]
    }
   ],
   "source": [
    "# Top-k 함수\n",
    "values,indices=torch.topk(x,k=1,dim=-1)\n",
    "print(values.size())\n",
    "print(indices.size())\n",
    "\n",
    "print(\"\\n\")\n",
    "_,indices=torch.topk(x,k=2,dim=-1)\n",
    "print(indices.size())"
   ]
  },
  {
   "cell_type": "code",
   "execution_count": 31,
   "id": "fb35afab",
   "metadata": {},
   "outputs": [
    {
     "name": "stdout",
     "output_type": "stream",
     "text": [
      "tensor([[[19, 13, 11],\n",
      "         [21, 18,  1],\n",
      "         [23,  9,  4]],\n",
      "\n",
      "        [[25, 16, 15],\n",
      "         [24,  3,  2],\n",
      "         [26, 20, 14]],\n",
      "\n",
      "        [[22, 12,  8],\n",
      "         [17,  5,  0],\n",
      "         [10,  7,  6]]])\n"
     ]
    }
   ],
   "source": [
    "target_dim=-1\n",
    "values,indices=torch.topk(x,k=x.size(target_dim),largest=True)\n",
    "print(values)"
   ]
  },
  {
   "cell_type": "code",
   "execution_count": 32,
   "id": "361f8744",
   "metadata": {},
   "outputs": [
    {
     "name": "stdout",
     "output_type": "stream",
     "text": [
      "tensor([[0., 1., 2.],\n",
      "        [3., 4., 5.],\n",
      "        [6., 7., 8.]])\n",
      "torch.Size([3, 3])\n",
      "tensor([[False, False, False],\n",
      "        [False, False,  True],\n",
      "        [ True,  True,  True]])\n",
      "tensor([[ 0.,  1.,  2.],\n",
      "        [ 3.,  4., -1.],\n",
      "        [-1., -1., -1.]])\n"
     ]
    }
   ],
   "source": [
    "# Marked Fill 함수\n",
    "x=torch.FloatTensor([i for i in range(3**2)]).reshape(3,-1)\n",
    "print(x)\n",
    "print(x.size())\n",
    "\n",
    "# Boolean Tensor\n",
    "mask = x > 4\n",
    "print(mask)\n",
    "\n",
    "# masked_fill 수행\n",
    "y = x.masked_fill(mask,value=-1)\n",
    "print(y)"
   ]
  },
  {
   "cell_type": "code",
   "execution_count": 33,
   "id": "efb59d59",
   "metadata": {},
   "outputs": [
    {
     "name": "stdout",
     "output_type": "stream",
     "text": [
      "tensor([[1., 1., 1.],\n",
      "        [1., 1., 1.]])\n",
      "tensor([[0., 0., 0.],\n",
      "        [0., 0., 0.]])\n",
      "\n",
      "\n",
      "torch.Size([2, 3])\n",
      "tensor([[1., 1., 1.],\n",
      "        [1., 1., 1.]])\n",
      "tensor([[0., 0., 0.],\n",
      "        [0., 0., 0.]])\n"
     ]
    }
   ],
   "source": [
    "# Ones & Zeros 함수\n",
    "print(torch.ones(2,3))\n",
    "print(torch.zeros(2,3))\n",
    "\n",
    "# ones_like, zeros_like 함수\n",
    "x=torch.FloatTensor([[1,2,3],[4,5,6]])\n",
    "print(\"\\n\")\n",
    "print(x.size())\n",
    "print(torch.ones_like(x))\n",
    "print(torch.zeros_like(x))"
   ]
  }
 ],
 "metadata": {
  "kernelspec": {
   "display_name": "Python 3 (ipykernel)",
   "language": "python",
   "name": "python3"
  },
  "language_info": {
   "codemirror_mode": {
    "name": "ipython",
    "version": 3
   },
   "file_extension": ".py",
   "mimetype": "text/x-python",
   "name": "python",
   "nbconvert_exporter": "python",
   "pygments_lexer": "ipython3",
   "version": "3.9.13"
  }
 },
 "nbformat": 4,
 "nbformat_minor": 5
}
