{
 "cells": [
  {
   "cell_type": "code",
   "execution_count": 1,
   "id": "c606ff23",
   "metadata": {},
   "outputs": [],
   "source": [
    "# 파이토치 모듈\n",
    "import torch"
   ]
  },
  {
   "cell_type": "code",
   "execution_count": 2,
   "id": "b8172262",
   "metadata": {},
   "outputs": [
    {
     "data": {
      "text/plain": [
       "tensor([[1., 2.],\n",
       "        [3., 4.]])"
      ]
     },
     "execution_count": 2,
     "metadata": {},
     "output_type": "execute_result"
    }
   ],
   "source": [
    "# 텐서 생성하기\n",
    "ft = torch.FloatTensor([[1,2],[3,4]])\n",
    "ft"
   ]
  },
  {
   "cell_type": "code",
   "execution_count": 3,
   "id": "35368181",
   "metadata": {},
   "outputs": [
    {
     "name": "stdout",
     "output_type": "stream",
     "text": [
      "tensor([[1, 2],\n",
      "        [3, 4]])\n",
      "tensor([[1, 0],\n",
      "        [0, 1]], dtype=torch.uint8)\n"
     ]
    }
   ],
   "source": [
    "# Long 타입 텐서\n",
    "lt = torch.LongTensor([[1,2],[3,4]])\n",
    "print(lt)\n",
    "\n",
    "# Byte 타입 텐서\n",
    "bt = torch.ByteTensor([[1,0],[0,1]])\n",
    "print(bt)"
   ]
  },
  {
   "cell_type": "code",
   "execution_count": 5,
   "id": "5e0467f0",
   "metadata": {},
   "outputs": [
    {
     "name": "stdout",
     "output_type": "stream",
     "text": [
      "[[1 2]\n",
      " [3 4]] <class 'numpy.ndarray'>\n",
      "tensor([[1, 2],\n",
      "        [3, 4]], dtype=torch.int32) <class 'torch.Tensor'>\n"
     ]
    }
   ],
   "source": [
    "import numpy as np\n",
    "\n",
    "# 파이토치는 Numpy와 호환이 가능하다.\n",
    "x = np.array([[1,2],[3,4]]) # Define numpy array.\n",
    "print(x,type(x))\n",
    "\n",
    "x = torch.from_numpy(x)\n",
    "print(x,type(x))"
   ]
  },
  {
   "cell_type": "code",
   "execution_count": 6,
   "id": "0b5e5281",
   "metadata": {},
   "outputs": [
    {
     "name": "stdout",
     "output_type": "stream",
     "text": [
      "[[1 2]\n",
      " [3 4]] <class 'numpy.ndarray'>\n"
     ]
    }
   ],
   "source": [
    "# Tensor -> numpy로 변환\n",
    "x = x.numpy()\n",
    "print(x,type(x))"
   ]
  },
  {
   "cell_type": "code",
   "execution_count": 7,
   "id": "c18e0e39",
   "metadata": {},
   "outputs": [
    {
     "name": "stdout",
     "output_type": "stream",
     "text": [
      "tensor([[1, 2],\n",
      "        [3, 4]])\n",
      "tensor([[1., 2.],\n",
      "        [3., 4.]])\n"
     ]
    }
   ],
   "source": [
    "# Tensor 타입 변환하기\n",
    "print(ft.long())\n",
    "print(ft.float())"
   ]
  },
  {
   "cell_type": "code",
   "execution_count": 12,
   "id": "e79c3ebc",
   "metadata": {},
   "outputs": [
    {
     "name": "stdout",
     "output_type": "stream",
     "text": [
      "torch.Size([3, 2, 2])\n",
      "torch.Size([3, 2, 2])\n",
      "\n",
      "\n",
      "2\n",
      "2\n",
      "\n",
      "\n",
      "2\n",
      "2\n",
      "\n",
      "\n",
      "3\n",
      "3\n"
     ]
    }
   ],
   "source": [
    "x = torch.FloatTensor([[[1,2],[3,4]],[[5,6],[7,8]],[[9,10],[11,12]]])\n",
    "\n",
    "print(x.size())\n",
    "print(x.shape)\n",
    "\n",
    "print(\"\\n\")\n",
    "print(x.size(1))\n",
    "print(x.shape[1])\n",
    "\n",
    "print(\"\\n\")\n",
    "print(x.size(-1))\n",
    "print(x.shape[-1])\n",
    "\n",
    "print(\"\\n\")\n",
    "print(x.dim())\n",
    "print(len(x.size()))"
   ]
  },
  {
   "cell_type": "code",
   "execution_count": 13,
   "id": "e4fb70ca",
   "metadata": {},
   "outputs": [
    {
     "name": "stdout",
     "output_type": "stream",
     "text": [
      "tensor([[3., 4.],\n",
      "        [6., 7.]])\n",
      "tensor([[-1.,  0.],\n",
      "        [ 0.,  1.]])\n",
      "tensor([[ 2.,  4.],\n",
      "        [ 9., 12.]])\n",
      "tensor([[0.5000, 1.0000],\n",
      "        [1.0000, 1.3333]])\n",
      "\n",
      "\n",
      "tensor([[ 1.,  4.],\n",
      "        [27., 64.]])\n",
      "tensor([[False,  True],\n",
      "        [ True, False]])\n",
      "tensor([[ True, False],\n",
      "        [False,  True]])\n"
     ]
    }
   ],
   "source": [
    "# pytorch 연산\n",
    "a = torch.FloatTensor([[1,2],[3,4]])\n",
    "b = torch.FloatTensor([[2,2],[3,3]])\n",
    "\n",
    "# 산술 연산\n",
    "print(a + b)\n",
    "print(a - b)\n",
    "print(a * b)\n",
    "print(a / b)\n",
    "\n",
    "print(\"\\n\")\n",
    "\n",
    "# 제곱 연산\n",
    "print(a**b)\n",
    "\n",
    "# 논리 연산\n",
    "print(a == b)\n",
    "print(a != b)"
   ]
  },
  {
   "cell_type": "code",
   "execution_count": 15,
   "id": "e7933d4e",
   "metadata": {},
   "outputs": [
    {
     "name": "stdout",
     "output_type": "stream",
     "text": [
      "tensor([[1., 2.],\n",
      "        [3., 4.]])\n",
      "\n",
      "\n",
      "tensor([[ 2.,  4.],\n",
      "        [ 9., 12.]])\n",
      "tensor([[ 2.,  4.],\n",
      "        [ 9., 12.]])\n"
     ]
    }
   ],
   "source": [
    "# 인플레이스 연산(mul_() 함수)\n",
    "print(a)\n",
    "\n",
    "print(\"\\n\")\n",
    "print(a.mul(b))\n",
    "print(b.mul(a))"
   ]
  },
  {
   "cell_type": "code",
   "execution_count": 19,
   "id": "7da8943a",
   "metadata": {},
   "outputs": [
    {
     "name": "stdout",
     "output_type": "stream",
     "text": [
      "tensor(16.)\n",
      "tensor(4.)\n"
     ]
    }
   ],
   "source": [
    "# 차원 축소 연산: 합과 평균\n",
    "x = torch.FloatTensor([[1,3],[5,7]])\n",
    "print(x.sum())\n",
    "\n",
    "print(x.mean())"
   ]
  },
  {
   "cell_type": "code",
   "execution_count": 21,
   "id": "a4561c57",
   "metadata": {},
   "outputs": [
    {
     "name": "stdout",
     "output_type": "stream",
     "text": [
      "tensor([ 6., 10.])\n",
      "tensor([ 4., 12.])\n"
     ]
    }
   ],
   "source": [
    "# dim(차원): 연산의 차원\n",
    "print(x.sum(dim=0)) # [1+5., 3+7.] = [6., 10.]\n",
    "print(x.sum(dim=1)) # [1+3., 5+7.] = [4., 12.]"
   ]
  },
  {
   "cell_type": "code",
   "execution_count": 22,
   "id": "a74de239",
   "metadata": {},
   "outputs": [
    {
     "ename": "IndexError",
     "evalue": "Dimension out of range (expected to be in range of [-2, 1], but got 2)",
     "output_type": "error",
     "traceback": [
      "\u001b[1;31m---------------------------------------------------------------------------\u001b[0m",
      "\u001b[1;31mIndexError\u001b[0m                                Traceback (most recent call last)",
      "\u001b[1;32m~\\AppData\\Local\\Temp\\ipykernel_7820\\1562861439.py\u001b[0m in \u001b[0;36m<module>\u001b[1;34m\u001b[0m\n\u001b[1;32m----> 1\u001b[1;33m \u001b[0mprint\u001b[0m\u001b[1;33m(\u001b[0m\u001b[0mx\u001b[0m\u001b[1;33m.\u001b[0m\u001b[0msum\u001b[0m\u001b[1;33m(\u001b[0m\u001b[0mdim\u001b[0m\u001b[1;33m=\u001b[0m\u001b[1;36m2\u001b[0m\u001b[1;33m)\u001b[0m\u001b[1;33m)\u001b[0m\u001b[1;33m\u001b[0m\u001b[1;33m\u001b[0m\u001b[0m\n\u001b[0m",
      "\u001b[1;31mIndexError\u001b[0m: Dimension out of range (expected to be in range of [-2, 1], but got 2)"
     ]
    }
   ],
   "source": [
    "# 차원의 범위 초과. 즉 2차원 배열을 초과하는 범위이므로 오류!\n",
    "print(x.sum(dim=2))"
   ]
  },
  {
   "cell_type": "code",
   "execution_count": 23,
   "id": "6f0b8f1a",
   "metadata": {},
   "outputs": [
    {
     "name": "stdout",
     "output_type": "stream",
     "text": [
      "tensor([ 4., 12.])\n"
     ]
    }
   ],
   "source": [
    "print(x.sum(dim=-1)) # [1+3., 5+7.] = [4., 12.] == 1차원 하고 값이 비슷\n",
    "print(x.sum(dim=-2)) # [1+5., 3+7.] = [6., 10.] == 0차원 하고 값이 비슷"
   ]
  },
  {
   "cell_type": "code",
   "execution_count": 26,
   "id": "7e719d44",
   "metadata": {},
   "outputs": [
    {
     "name": "stdout",
     "output_type": "stream",
     "text": [
      "tensor([[12., 17.],\n",
      "        [22., 27.]])\n",
      "tensor([[ 6., 10.],\n",
      "        [ 8., 12.],\n",
      "        [20., 22.]])\n",
      "tensor([[ 4., 12.],\n",
      "        [ 6., 14.],\n",
      "        [19., 23.]])\n"
     ]
    }
   ],
   "source": [
    "# 3차원 축소 연산\n",
    "x = torch.FloatTensor([[[1,3],[5,7]],[[2,4],[6,8]],[[9,10],[11,12]]])\n",
    "\n",
    "print(x.sum(dim=0)) # [[1+2+9., 3+4+10.], [5+6+11., 7+8+12.]]\n",
    "print(x.sum(dim=1)) # [[1+5., 3+7.], [2+6., 4+8.], [9+11., 10+12.]]\n",
    "print(x.sum(dim=2)) # [[1+3., 5+7.], [2+4., 6+8.], [9+10., 11+12.]]"
   ]
  },
  {
   "cell_type": "code",
   "execution_count": 27,
   "id": "6c1d2eb4",
   "metadata": {},
   "outputs": [
    {
     "ename": "IndexError",
     "evalue": "Dimension out of range (expected to be in range of [-3, 2], but got 3)",
     "output_type": "error",
     "traceback": [
      "\u001b[1;31m---------------------------------------------------------------------------\u001b[0m",
      "\u001b[1;31mIndexError\u001b[0m                                Traceback (most recent call last)",
      "\u001b[1;32m~\\AppData\\Local\\Temp\\ipykernel_7820\\902718240.py\u001b[0m in \u001b[0;36m<module>\u001b[1;34m\u001b[0m\n\u001b[0;32m      1\u001b[0m \u001b[1;31m# 2차원을 초과하면 에러!\u001b[0m\u001b[1;33m\u001b[0m\u001b[1;33m\u001b[0m\u001b[0m\n\u001b[1;32m----> 2\u001b[1;33m \u001b[0mprint\u001b[0m\u001b[1;33m(\u001b[0m\u001b[0mx\u001b[0m\u001b[1;33m.\u001b[0m\u001b[0msum\u001b[0m\u001b[1;33m(\u001b[0m\u001b[0mdim\u001b[0m\u001b[1;33m=\u001b[0m\u001b[1;36m3\u001b[0m\u001b[1;33m)\u001b[0m\u001b[1;33m)\u001b[0m\u001b[1;33m\u001b[0m\u001b[1;33m\u001b[0m\u001b[0m\n\u001b[0m",
      "\u001b[1;31mIndexError\u001b[0m: Dimension out of range (expected to be in range of [-3, 2], but got 3)"
     ]
    }
   ],
   "source": [
    "# 2차원을 초과하면 에러!\n",
    "print(x.sum(dim=3))"
   ]
  },
  {
   "cell_type": "code",
   "execution_count": 30,
   "id": "95149a78",
   "metadata": {},
   "outputs": [
    {
     "name": "stdout",
     "output_type": "stream",
     "text": [
      "tensor([[2., 3.],\n",
      "        [4., 5.]])\n",
      "torch.Size([2, 2])\n"
     ]
    }
   ],
   "source": [
    "# 브로드캐스트 연산\n",
    "# 텐서 + 스칼라\n",
    "x = torch.FloatTensor([[1,2],[3,4]])\n",
    "y = 1\n",
    "z = x + y\n",
    "\n",
    "print(z)\n",
    "print(z.size())"
   ]
  },
  {
   "cell_type": "code",
   "execution_count": 31,
   "id": "71d37ab0",
   "metadata": {},
   "outputs": [
    {
     "name": "stdout",
     "output_type": "stream",
     "text": [
      "torch.Size([2, 2])\n",
      "torch.Size([2])\n",
      "\n",
      "\n",
      "tensor([[ 4.,  7.],\n",
      "        [ 7., 13.]])\n",
      "torch.Size([2, 2])\n"
     ]
    }
   ],
   "source": [
    "# 텐서 + 벡터\n",
    "x = torch.FloatTensor([[1,2],[4,8]])\n",
    "y = torch.FloatTensor([3,5])\n",
    "\n",
    "print(x.size())\n",
    "print(y.size())\n",
    "\n",
    "print(\"\\n\")\n",
    "z = x + y\n",
    "# [[1,2],  [[3,5],   [[4,7]\n",
    "# [4,8]] +  [3,5]] =  [7,13]]\n",
    "\n",
    "print(z)\n",
    "print(z.size())"
   ]
  },
  {
   "cell_type": "code",
   "execution_count": 32,
   "id": "12edd998",
   "metadata": {},
   "outputs": [
    {
     "name": "stdout",
     "output_type": "stream",
     "text": [
      "torch.Size([1, 1, 2])\n",
      "torch.Size([2])\n",
      "\n",
      "\n",
      "tensor([[[4., 7.]]])\n",
      "torch.Size([1, 1, 2])\n"
     ]
    }
   ],
   "source": [
    "x = torch.FloatTensor([[[1,2]]])\n",
    "y = torch.FloatTensor([3,5])\n",
    "\n",
    "print(x.size())\n",
    "print(y.size())\n",
    "\n",
    "print(\"\\n\")\n",
    "z = x + y\n",
    "print(z)\n",
    "print(z.size())"
   ]
  },
  {
   "cell_type": "code",
   "execution_count": 33,
   "id": "8fc38fa8",
   "metadata": {},
   "outputs": [
    {
     "name": "stdout",
     "output_type": "stream",
     "text": [
      "torch.Size([1, 2])\n",
      "torch.Size([2, 1])\n",
      "\n",
      "\n",
      "tensor([[4., 5.],\n",
      "        [6., 7.]])\n",
      "torch.Size([2, 2])\n"
     ]
    }
   ],
   "source": [
    "# 텐서 + 텐서\n",
    "x = torch.FloatTensor([[1,2]])\n",
    "y = torch.FloatTensor([[3],[5]])\n",
    "\n",
    "print(x.size())\n",
    "print(y.size())\n",
    "\n",
    "print(\"\\n\")\n",
    "z = x + y\n",
    "print(z)\n",
    "print(z.size())"
   ]
  }
 ],
 "metadata": {
  "kernelspec": {
   "display_name": "Python 3 (ipykernel)",
   "language": "python",
   "name": "python3"
  },
  "language_info": {
   "codemirror_mode": {
    "name": "ipython",
    "version": 3
   },
   "file_extension": ".py",
   "mimetype": "text/x-python",
   "name": "python",
   "nbconvert_exporter": "python",
   "pygments_lexer": "ipython3",
   "version": "3.9.13"
  }
 },
 "nbformat": 4,
 "nbformat_minor": 5
}
