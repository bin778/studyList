{
 "cells": [
  {
   "cell_type": "code",
   "execution_count": 1,
   "id": "d70dea31",
   "metadata": {},
   "outputs": [],
   "source": [
    "import numpy as np\n",
    "from copy import deepcopy\n",
    "import matplotlib.pyplot as plt\n",
    "\n",
    "import torch\n",
    "import torch.nn as nn\n",
    "import torch.nn.functional as F\n",
    "import torch.optim as optim\n",
    "\n",
    "from torchvision import datasets,transforms"
   ]
  },
  {
   "cell_type": "code",
   "execution_count": 2,
   "id": "ea061b4f",
   "metadata": {},
   "outputs": [],
   "source": [
    "train=datasets.MNIST(\n",
    "    '../data',train=True,download=True,\n",
    "    transform=transforms.Compose([\n",
    "        transforms.ToTensor()\n",
    "    ]),\n",
    ")\n",
    "\n",
    "test=datasets.MNIST(\n",
    "    '../data',train=False,\n",
    "    transform=transforms.Compose([\n",
    "        transforms.ToTensor()\n",
    "    ]),\n",
    ")"
   ]
  },
  {
   "cell_type": "code",
   "execution_count": 3,
   "id": "86994fc7",
   "metadata": {},
   "outputs": [],
   "source": [
    "def plot(x):\n",
    "    img=(np.array(x.detach().cpu(),dtype='float')).reshape(28,28)\n",
    "    plt.imshow(img,cmap='gray')\n",
    "    plt.show()"
   ]
  },
  {
   "cell_type": "code",
   "execution_count": 5,
   "id": "4c0f6c13",
   "metadata": {},
   "outputs": [
    {
     "data": {
      "image/png": "[encoded data removed]",
      "text/plain": [
       "<Figure size 640x480 with 1 Axes>"
      ]
     },
     "metadata": {},
     "output_type": "display_data"
    }
   ],
   "source": [
    "plot(train.data[0])"
   ]
  },
  {
   "cell_type": "code",
   "execution_count": 6,
   "id": "d7a2bfb5",
   "metadata": {},
   "outputs": [
    {
     "name": "stdout",
     "output_type": "stream",
     "text": [
      "torch.Size([60000, 784]) torch.Size([60000])\n"
     ]
    }
   ],
   "source": [
    "x=train.data.float()/255.\n",
    "y=train.targets\n",
    "x=x.view(x.size(0),-1)\n",
    "print(x.shape,y.shape)"
   ]
  },
  {
   "cell_type": "code",
   "execution_count": 7,
   "id": "d4ac2e56",
   "metadata": {},
   "outputs": [
    {
     "name": "stdout",
     "output_type": "stream",
     "text": [
      "input_size: 784, output_size: 10\n"
     ]
    }
   ],
   "source": [
    "input_size=x.size(-1)\n",
    "output_size=int(max(y))+1\n",
    "print('input_size: %d, output_size: %d' % (input_size,output_size))"
   ]
  },
  {
   "cell_type": "code",
   "execution_count": 8,
   "id": "d56ece8a",
   "metadata": {},
   "outputs": [
    {
     "name": "stdout",
     "output_type": "stream",
     "text": [
      "Train 48000 / Valid 12000 / Test 10000 samples.\n",
      "torch.Size([48000, 784]) torch.Size([48000])\n",
      "torch.Size([12000, 784]) torch.Size([12000])\n",
      "torch.Size([10000, 784]) torch.Size([10000])\n"
     ]
    }
   ],
   "source": [
    "# Train / Valid ratio\n",
    "ratios=[.8,.2]\n",
    "\n",
    "train_cnt=int(x.size(0)*ratios[0])\n",
    "valid_cnt=int(x.size(0)*ratios[1])\n",
    "test_cnt=len(test.data)\n",
    "cnts=[train_cnt,valid_cnt]\n",
    "\n",
    "print(\"Train %d / Valid %d / Test %d samples.\" % (train_cnt,valid_cnt,test_cnt))\n",
    "\n",
    "indices=torch.randperm(x.size(0))\n",
    "\n",
    "x=torch.index_select(x,dim=0,index=indices)\n",
    "y=torch.index_select(y,dim=0,index=indices)\n",
    "\n",
    "x=list(x.split(cnts,dim=0))\n",
    "y=list(y.split(cnts,dim=0))\n",
    "\n",
    "x+=[(test.data.float()/255.).view(test_cnt,-1)]\n",
    "y+=[test.targets]\n",
    "\n",
    "for x_i,y_i in zip(x,y):\n",
    "    print(x_i.size(),y_i.size())"
   ]
  },
  {
   "cell_type": "code",
   "execution_count": 9,
   "id": "e4aa2402",
   "metadata": {},
   "outputs": [],
   "source": [
    "model=nn.Sequential(\n",
    "    nn.Linear(input_size,500),\n",
    "    nn.LeakyReLU(),\n",
    "    nn.Linear(500,400),\n",
    "    nn.LeakyReLU(),\n",
    "    nn.Linear(400,300),\n",
    "    nn.LeakyReLU(),\n",
    "    nn.Linear(300,200),\n",
    "    nn.LeakyReLU(),\n",
    "    nn.Linear(200,100),\n",
    "    nn.LeakyReLU(),\n",
    "    nn.Linear(100,50),\n",
    "    nn.LeakyReLU(),\n",
    "    nn.Linear(50,output_size),\n",
    "    nn.LogSoftmax(dim=-1),\n",
    ")"
   ]
  },
  {
   "cell_type": "code",
   "execution_count": 10,
   "id": "b59d0aeb",
   "metadata": {},
   "outputs": [],
   "source": [
    "optimizer=optim.Adam(model.parameters())\n",
    "crit=nn.NLLLoss()"
   ]
  },
  {
   "cell_type": "code",
   "execution_count": 11,
   "id": "68052ea7",
   "metadata": {},
   "outputs": [],
   "source": [
    "device=torch.device('cpu')\n",
    "if torch.cuda.is_available():\n",
    "    device=torch.device('cuda')"
   ]
  },
  {
   "cell_type": "code",
   "execution_count": 12,
   "id": "2dd9eb00",
   "metadata": {},
   "outputs": [],
   "source": [
    "model=model.to(device)\n",
    "x=[x_i.to(device) for x_i in x]\n",
    "y=[y_i.to(device) for y_i in y]"
   ]
  },
  {
   "cell_type": "code",
   "execution_count": 13,
   "id": "ca1981a1",
   "metadata": {},
   "outputs": [],
   "source": [
    "n_epochs=1000\n",
    "batch_size=256\n",
    "print_interval=10\n",
    "early_stop=50\n",
    "lowest_loss=np.inf\n",
    "best_model=None\n",
    "lowest_epoch=np.inf"
   ]
  },
  {
   "cell_type": "code",
   "execution_count": 14,
   "id": "1f744a14",
   "metadata": {},
   "outputs": [
    {
     "name": "stdout",
     "output_type": "stream",
     "text": [
      "Epoch 10: train loss=0.0249 valid_loss=0.0031 lowest_loss=0.0024\n",
      "Epoch 20: train loss=0.0125 valid_loss=0.0025 lowest_loss=0.0024\n",
      "Epoch 30: train loss=0.0086 valid_loss=0.0031 lowest_loss=0.0021\n",
      "Epoch 40: train loss=0.0054 valid_loss=0.0021 lowest_loss=0.0021\n",
      "Epoch 50: train loss=0.0082 valid_loss=0.0027 lowest_loss=0.0021\n",
      "Epoch 60: train loss=0.0110 valid_loss=0.0025 lowest_loss=0.0021\n",
      "Epoch 70: train loss=0.0000 valid_loss=0.0038 lowest_loss=0.0019\n",
      "Epoch 80: train loss=0.0000 valid_loss=0.0043 lowest_loss=0.0019\n",
      "Epoch 90: train loss=0.0000 valid_loss=0.0047 lowest_loss=0.0019\n",
      "Epoch 100: train loss=0.0000 valid_loss=0.0051 lowest_loss=0.0019\n",
      "Epoch 110: train loss=0.0000 valid_loss=0.0055 lowest_loss=0.0019\n",
      "There is no improvement during last 50 epochs.\n",
      "The best validation loss from epoch 62: 0.0019\n"
     ]
    },
    {
     "data": {
      "text/plain": [
       "<All keys matched successfully>"
      ]
     },
     "execution_count": 14,
     "metadata": {},
     "output_type": "execute_result"
    }
   ],
   "source": [
    "train_history,valid_history=[],[]\n",
    "\n",
    "for i in range(n_epochs):\n",
    "    indices=torch.randperm(x[0].size(0)).to(device)\n",
    "    x_=torch.index_select(x[0],dim=0,index=indices)\n",
    "    y_=torch.index_select(y[0],dim=0,index=indices)\n",
    "    \n",
    "    x_=x_.split(batch_size,dim=0)\n",
    "    y_=y_.split(batch_size,dim=0)\n",
    "    \n",
    "    train_loss,valid_loss=0,0\n",
    "    y_hat=[]\n",
    "    \n",
    "    for x_i,y_i in zip(x_,y_):\n",
    "        y_hat_i=model(x_i)\n",
    "        loss=crit(y_hat_i,y_i.squeeze())\n",
    "        \n",
    "        optimizer.zero_grad()\n",
    "        loss.backward()\n",
    "        \n",
    "        optimizer.step()\n",
    "        train_loss+=float(loss)\n",
    "    \n",
    "    train_loss=train_loss/len(x_)\n",
    "    \n",
    "    with torch.no_grad():\n",
    "        x_=x[1].split(batch_size,dim=0)\n",
    "        y_=y[1].split(batch_size,dim=0)\n",
    "        \n",
    "        valid_loss=0\n",
    "        \n",
    "        for x_i,y_i in zip(x_,y_):\n",
    "            y_hat_i=model(x_i)\n",
    "            loss=crit(y_hat_i,y_i.squeeze())\n",
    "            \n",
    "            valid_loss=float(loss)\n",
    "            \n",
    "            y_hat+=[y_hat_i]\n",
    "    \n",
    "    valid_loss=valid_loss/len(x_)\n",
    "    \n",
    "    train_history+=[train_loss]\n",
    "    valid_history+=[valid_loss]\n",
    "    \n",
    "    if (i + 1) % print_interval == 0:\n",
    "        print('Epoch %d: train loss=%.4f valid_loss=%.4f lowest_loss=%.4f' %\n",
    "(\n",
    "            i+1,\n",
    "            train_loss,\n",
    "            valid_loss,\n",
    "            lowest_loss,\n",
    "        ))\n",
    "    \n",
    "    if valid_loss<=lowest_loss:\n",
    "        lowest_loss=valid_loss\n",
    "        lowest_epoch=i\n",
    "        \n",
    "        best_model=deepcopy(model.state_dict())\n",
    "    else:\n",
    "        if early_stop > 0 and lowest_epoch + early_stop < i + 1:\n",
    "            print(\"There is no improvement during last %d epochs.\" % early_stop)\n",
    "            break\n",
    "\n",
    "print(\"The best validation loss from epoch %d: %.4f\" %(lowest_epoch+1,lowest_loss))\n",
    "model.load_state_dict(best_model)"
   ]
  },
  {
   "cell_type": "code",
   "execution_count": 15,
   "id": "e32f889c",
   "metadata": {},
   "outputs": [
    {
     "data": {
      "image/png": "[encoded data removed]",
      "text/plain": [
       "<Figure size 2000x1000 with 1 Axes>"
      ]
     },
     "metadata": {},
     "output_type": "display_data"
    }
   ],
   "source": [
    "plot_from=0\n",
    "\n",
    "plt.figure(figsize=(20,10))\n",
    "plt.grid(True)\n",
    "plt.title(\"Train / Valid Loss History\")\n",
    "plt.plot(\n",
    "    range(plot_from,len(train_history)),train_history[plot_from:],\n",
    "    range(plot_from,len(valid_history)),valid_history[plot_from:],\n",
    ")\n",
    "plt.yscale('log')\n",
    "plt.show()"
   ]
  },
  {
   "cell_type": "code",
   "execution_count": 16,
   "id": "a6cd5f51",
   "metadata": {},
   "outputs": [
    {
     "name": "stdout",
     "output_type": "stream",
     "text": [
      "Test loss: 1.1567e-01\n"
     ]
    }
   ],
   "source": [
    "test_loss=0\n",
    "y_hat=[]\n",
    "\n",
    "with torch.no_grad():\n",
    "    x_=x[-1].split(batch_size,dim=0)\n",
    "    y_=y[-1].split(batch_size,dim=0)\n",
    "    \n",
    "    for x_i,y_i in zip(x_,y_):\n",
    "        y_hat_i=model(x_i)\n",
    "        loss=crit(y_hat_i,y_i.squeeze())\n",
    "        test_loss+=loss\n",
    "        \n",
    "        y_hat+=[y_hat_i]\n",
    "    \n",
    "test_loss=test_loss/len(x_)\n",
    "y_hat=torch.cat(y_hat,dim=0)\n",
    "\n",
    "print(\"Test loss: %.4e\" % test_loss)"
   ]
  },
  {
   "cell_type": "code",
   "execution_count": 20,
   "id": "3e2a6328",
   "metadata": {},
   "outputs": [
    {
     "name": "stdout",
     "output_type": "stream",
     "text": [
      "Test Accuracy: 0.9821\n"
     ]
    }
   ],
   "source": [
    "correct_cnt=(y[-1].squeeze()==torch.argmax(y_hat,dim=-1)).sum()\n",
    "total_cnt=float(y[-1].size(0))\n",
    "print(\"Test Accuracy: %.4f\" %(correct_cnt/total_cnt))"
   ]
  },
  {
   "cell_type": "code",
   "execution_count": 21,
   "id": "e2d9d6de",
   "metadata": {},
   "outputs": [],
   "source": [
    "import pandas as pd\n",
    "from sklearn.metrics import confusion_matrix"
   ]
  },
  {
   "cell_type": "code",
   "execution_count": 25,
   "id": "debb6121",
   "metadata": {},
   "outputs": [
    {
     "data": {
      "text/html": [
       "<div>\n",
       "<style scoped>\n",
       "    .dataframe tbody tr th:only-of-type {\n",
       "        vertical-align: middle;\n",
       "    }\n",
       "\n",
       "    .dataframe tbody tr th {\n",
       "        vertical-align: top;\n",
       "    }\n",
       "\n",
       "    .dataframe thead th {\n",
       "        text-align: right;\n",
       "    }\n",
       "</style>\n",
       "<table border=\"1\" class=\"dataframe\">\n",
       "  <thead>\n",
       "    <tr style=\"text-align: right;\">\n",
       "      <th></th>\n",
       "      <th>pred_0</th>\n",
       "      <th>pred_1</th>\n",
       "      <th>pred_2</th>\n",
       "      <th>pred_3</th>\n",
       "      <th>pred_4</th>\n",
       "      <th>pred_5</th>\n",
       "      <th>pred_6</th>\n",
       "      <th>pred_7</th>\n",
       "      <th>pred_8</th>\n",
       "      <th>pred_9</th>\n",
       "    </tr>\n",
       "  </thead>\n",
       "  <tbody>\n",
       "    <tr>\n",
       "      <th>true_0</th>\n",
       "      <td>968</td>\n",
       "      <td>0</td>\n",
       "      <td>0</td>\n",
       "      <td>1</td>\n",
       "      <td>1</td>\n",
       "      <td>1</td>\n",
       "      <td>4</td>\n",
       "      <td>0</td>\n",
       "      <td>3</td>\n",
       "      <td>2</td>\n",
       "    </tr>\n",
       "    <tr>\n",
       "      <th>true_1</th>\n",
       "      <td>0</td>\n",
       "      <td>1126</td>\n",
       "      <td>0</td>\n",
       "      <td>2</td>\n",
       "      <td>0</td>\n",
       "      <td>1</td>\n",
       "      <td>2</td>\n",
       "      <td>1</td>\n",
       "      <td>3</td>\n",
       "      <td>0</td>\n",
       "    </tr>\n",
       "    <tr>\n",
       "      <th>true_2</th>\n",
       "      <td>6</td>\n",
       "      <td>1</td>\n",
       "      <td>1006</td>\n",
       "      <td>7</td>\n",
       "      <td>2</td>\n",
       "      <td>0</td>\n",
       "      <td>1</td>\n",
       "      <td>4</td>\n",
       "      <td>5</td>\n",
       "      <td>0</td>\n",
       "    </tr>\n",
       "    <tr>\n",
       "      <th>true_3</th>\n",
       "      <td>0</td>\n",
       "      <td>0</td>\n",
       "      <td>1</td>\n",
       "      <td>996</td>\n",
       "      <td>0</td>\n",
       "      <td>7</td>\n",
       "      <td>0</td>\n",
       "      <td>2</td>\n",
       "      <td>2</td>\n",
       "      <td>2</td>\n",
       "    </tr>\n",
       "    <tr>\n",
       "      <th>true_4</th>\n",
       "      <td>1</td>\n",
       "      <td>1</td>\n",
       "      <td>3</td>\n",
       "      <td>0</td>\n",
       "      <td>963</td>\n",
       "      <td>0</td>\n",
       "      <td>7</td>\n",
       "      <td>1</td>\n",
       "      <td>0</td>\n",
       "      <td>6</td>\n",
       "    </tr>\n",
       "    <tr>\n",
       "      <th>true_5</th>\n",
       "      <td>2</td>\n",
       "      <td>0</td>\n",
       "      <td>0</td>\n",
       "      <td>6</td>\n",
       "      <td>0</td>\n",
       "      <td>874</td>\n",
       "      <td>5</td>\n",
       "      <td>0</td>\n",
       "      <td>4</td>\n",
       "      <td>1</td>\n",
       "    </tr>\n",
       "    <tr>\n",
       "      <th>true_6</th>\n",
       "      <td>1</td>\n",
       "      <td>3</td>\n",
       "      <td>1</td>\n",
       "      <td>1</td>\n",
       "      <td>2</td>\n",
       "      <td>3</td>\n",
       "      <td>945</td>\n",
       "      <td>0</td>\n",
       "      <td>2</td>\n",
       "      <td>0</td>\n",
       "    </tr>\n",
       "    <tr>\n",
       "      <th>true_7</th>\n",
       "      <td>0</td>\n",
       "      <td>4</td>\n",
       "      <td>6</td>\n",
       "      <td>2</td>\n",
       "      <td>1</td>\n",
       "      <td>1</td>\n",
       "      <td>0</td>\n",
       "      <td>1006</td>\n",
       "      <td>1</td>\n",
       "      <td>7</td>\n",
       "    </tr>\n",
       "    <tr>\n",
       "      <th>true_8</th>\n",
       "      <td>2</td>\n",
       "      <td>0</td>\n",
       "      <td>2</td>\n",
       "      <td>5</td>\n",
       "      <td>1</td>\n",
       "      <td>7</td>\n",
       "      <td>1</td>\n",
       "      <td>2</td>\n",
       "      <td>950</td>\n",
       "      <td>4</td>\n",
       "    </tr>\n",
       "    <tr>\n",
       "      <th>true_9</th>\n",
       "      <td>1</td>\n",
       "      <td>4</td>\n",
       "      <td>0</td>\n",
       "      <td>0</td>\n",
       "      <td>10</td>\n",
       "      <td>3</td>\n",
       "      <td>1</td>\n",
       "      <td>1</td>\n",
       "      <td>2</td>\n",
       "      <td>987</td>\n",
       "    </tr>\n",
       "  </tbody>\n",
       "</table>\n",
       "</div>"
      ],
      "text/plain": [
       "        pred_0  pred_1  pred_2  pred_3  pred_4  pred_5  pred_6  pred_7  \\\n",
       "true_0     968       0       0       1       1       1       4       0   \n",
       "true_1       0    1126       0       2       0       1       2       1   \n",
       "true_2       6       1    1006       7       2       0       1       4   \n",
       "true_3       0       0       1     996       0       7       0       2   \n",
       "true_4       1       1       3       0     963       0       7       1   \n",
       "true_5       2       0       0       6       0     874       5       0   \n",
       "true_6       1       3       1       1       2       3     945       0   \n",
       "true_7       0       4       6       2       1       1       0    1006   \n",
       "true_8       2       0       2       5       1       7       1       2   \n",
       "true_9       1       4       0       0      10       3       1       1   \n",
       "\n",
       "        pred_8  pred_9  \n",
       "true_0       3       2  \n",
       "true_1       3       0  \n",
       "true_2       5       0  \n",
       "true_3       2       2  \n",
       "true_4       0       6  \n",
       "true_5       4       1  \n",
       "true_6       2       0  \n",
       "true_7       1       7  \n",
       "true_8     950       4  \n",
       "true_9       2     987  "
      ]
     },
     "execution_count": 25,
     "metadata": {},
     "output_type": "execute_result"
    }
   ],
   "source": [
    "# Cuda:0 유형 텐서를 numpy로 변환할 때는\n",
    "# 텐서 뒤에 .cpu()를 붙여야 한다.\n",
    "pd.DataFrame(confusion_matrix(y[-1].cpu(),torch.argmax(y_hat.cpu(),dim=-1)),\n",
    "               index=['true_%d' % i for i in range(10)],\n",
    "               columns=['pred_%d' % i for i in range(10)])"
   ]
  }
 ],
 "metadata": {
  "kernelspec": {
   "display_name": "Python 3 (ipykernel)",
   "language": "python",
   "name": "python3"
  },
  "language_info": {
   "codemirror_mode": {
    "name": "ipython",
    "version": 3
   },
   "file_extension": ".py",
   "mimetype": "text/x-python",
   "name": "python",
   "nbconvert_exporter": "python",
   "pygments_lexer": "ipython3",
   "version": "3.9.13"
  }
 },
 "nbformat": 4,
 "nbformat_minor": 5
}
