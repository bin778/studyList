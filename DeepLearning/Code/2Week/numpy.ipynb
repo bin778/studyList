{
 "cells": [
  {
   "cell_type": "code",
   "execution_count": 3,
   "id": "875549bf",
   "metadata": {},
   "outputs": [
    {
     "name": "stdout",
     "output_type": "stream",
     "text": [
      "[[1 2 3]\n",
      " [4 5 6]]\n"
     ]
    }
   ],
   "source": [
    "# 1. numpy array\n",
    "import numpy as np # npmy 패키지 로드하여 np로 사용\n",
    "a = [[1,2,3], [4,5,6]] # 리스트에서 배열 생성\n",
    "b = np.array(a)\n",
    "print(b)"
   ]
  },
  {
   "cell_type": "code",
   "execution_count": 6,
   "id": "0b43d20d",
   "metadata": {},
   "outputs": [
    {
     "name": "stdout",
     "output_type": "stream",
     "text": [
      "2\n",
      "(2, 3)\n",
      "1\n"
     ]
    }
   ],
   "source": [
    "print(b.ndim) # 배열의 열수(차원)\n",
    "print(b.shape) # 배열의 차원\n",
    "print(b[0,0]) # 배열의 원소 접근"
   ]
  },
  {
   "cell_type": "code",
   "execution_count": 7,
   "id": "6052d84f",
   "metadata": {},
   "outputs": [
    {
     "name": "stdout",
     "output_type": "stream",
     "text": [
      "[0 1 2 3 4 5 6 7 8 9]\n",
      "[5 6 7 8 9]\n"
     ]
    }
   ],
   "source": [
    "# 2. 특수한 배열의 생성\n",
    "print(np.arange(10)) # 1씩 증가하는 1차원 배열(시작은 0)\n",
    "print(np.arange(5,10)) # 1씩 증가하는 1차원 배열(시작은 5부터)"
   ]
  },
  {
   "cell_type": "code",
   "execution_count": 16,
   "id": "3f139682",
   "metadata": {},
   "outputs": [
    {
     "name": "stdout",
     "output_type": "stream",
     "text": [
      "1. 영행렬\n",
      "[[0. 0.]\n",
      " [0. 0.]]\n",
      "\n",
      "2. 유닛 행렬\n",
      "[[1. 1. 1.]\n",
      " [1. 1. 1.]]\n",
      "\n",
      "3. 단위 행렬\n",
      "[[1. 0. 0.]\n",
      " [0. 1. 0.]\n",
      " [0. 0. 1.]]\n",
      "\n",
      "4. 배열의 차원 변환\n",
      "[ 0  1  2  3  4  5  6  7  8  9 10 11 12 13 14 15 16 17 18 19]\n",
      "[[ 0  1  2  3  4]\n",
      " [ 5  6  7  8  9]\n",
      " [10 11 12 13 14]\n",
      " [15 16 17 18 19]]\n"
     ]
    }
   ],
   "source": [
    "# 3. nunpy matrix\n",
    "print(\"1. 영행렬\")\n",
    "print(np.zeros((2,2))) # 영행렬 생성\n",
    "print(\"\\n2. 유닛 행렬\")\n",
    "print(np.ones((2,3))) # 유닛행렬 생성\n",
    "print(\"\\n3. 단위 행렬\")\n",
    "print(np.eye(3))\n",
    "print(\"\\n4. 배열의 차원 변환\")\n",
    "a = np.arange(20)\n",
    "print(a)\n",
    "b = a.reshape((4,5))\n",
    "print(b)"
   ]
  },
  {
   "cell_type": "code",
   "execution_count": 19,
   "id": "8bd97ee4",
   "metadata": {},
   "outputs": [
    {
     "name": "stdout",
     "output_type": "stream",
     "text": [
      "[[1 2]\n",
      " [4 5]]\n",
      "[[5 6]\n",
      " [8 9]]\n"
     ]
    }
   ],
   "source": [
    "# 4. numpy slice/index\n",
    "list = [\n",
    "    [1,2,3],\n",
    "    [4,5,6],\n",
    "    [7,8,9]\n",
    "]\n",
    "\n",
    "arr = np.array(list)\n",
    "a = arr[0:2, 0:2]\n",
    "print(a)\n",
    "\n",
    "a = arr[1:, 1:]\n",
    "print(a)"
   ]
  },
  {
   "cell_type": "code",
   "execution_count": 21,
   "id": "1e852fc0",
   "metadata": {},
   "outputs": [
    {
     "name": "stdout",
     "output_type": "stream",
     "text": [
      "[5 7 9]\n",
      "[-3 -3 -3]\n",
      "[ 4 10 18]\n",
      "[0.25 0.4  0.5 ]\n"
     ]
    }
   ],
   "source": [
    "# 5. numpy matrix operation\n",
    "a = np.array([1,2,3])\n",
    "b = np.array([4,5,6])\n",
    "\n",
    "# 각 요소의 합\n",
    "c = a+b\n",
    "print(c)\n",
    "\n",
    "# 각 요소의 차\n",
    "c = a-b\n",
    "print(c)\n",
    "\n",
    "# 각 요소의 곱\n",
    "c = a*b\n",
    "print(c)\n",
    "\n",
    "# 각 요소의 몫\n",
    "c = a/b\n",
    "print(c)"
   ]
  },
  {
   "cell_type": "code",
   "execution_count": 23,
   "id": "5c3ae013",
   "metadata": {},
   "outputs": [
    {
     "name": "stdout",
     "output_type": "stream",
     "text": [
      "[[19 22]\n",
      " [43 50]]\n"
     ]
    }
   ],
   "source": [
    "arr1 = [[1,2],[3,4]]\n",
    "arr2 = [[5,6],[7,8]]\n",
    "\n",
    "a = np.array(arr1)\n",
    "b = np.array(arr2)\n",
    "\n",
    "# dot() 함수: 행렬의 곱\n",
    "c = np.dot(a,b)\n",
    "print(c)"
   ]
  },
  {
   "cell_type": "code",
   "execution_count": 27,
   "id": "b425bfeb",
   "metadata": {},
   "outputs": [
    {
     "name": "stdout",
     "output_type": "stream",
     "text": [
      "sum= 19\n",
      "sum by row= [ 2  6 11]\n",
      "\n",
      "mean= 3.1666666666666665\n",
      "sd= 2.6718699236469\n",
      "product= -576\n"
     ]
    }
   ],
   "source": [
    "# 모든 원소의 합: sum()\n",
    "a = np.array([[-1,2,3],[3,4,8]])\n",
    "s = np.sum(a)\n",
    "print('sum=',a.sum())\n",
    "print('sum by row=',a.sum(axis=0))\n",
    "\n",
    "# 모든 원소의 곱: prod()\n",
    "print('\\nmean=',a.mean())\n",
    "print('sd=',a.std())\n",
    "print('product=',a.prod())"
   ]
  },
  {
   "cell_type": "code",
   "execution_count": 30,
   "id": "ebf9ca18",
   "metadata": {},
   "outputs": [
    {
     "data": {
      "text/plain": [
       "'\\nabs(): 절대값 함수\\nsqrt(): 제곱근 함수(arr**0.5와 동일)\\nsquare(): 제곱 함수(arr**2와 동일)\\nexp(): 지수 함수\\nlog(),log10(): 로그 함수\\nsign(): 각 요소의 부호(1(양수),0,-1(음수))\\nceil(): 올림 함수(주어진 수보다 크거나 같은 최소 정수)\\nfloor(): 내림 함수(작거나 같은 최대정수)\\nrint(): 반올림\\nisnan(): NaN(Not a Number) 체크(T|F)\\nisfinite(): 유한 체크\\nisinf(): 무한 체크\\nsin(),cos(),tan(): 삼각 함수\\n'"
      ]
     },
     "execution_count": 30,
     "metadata": {},
     "output_type": "execute_result"
    }
   ],
   "source": [
    "# 6. numpy 기본 수학함수\n",
    "\n",
    "\"\"\"\n",
    "abs(): 절대값 함수\n",
    "sqrt(): 제곱근 함수(arr**0.5와 동일)\n",
    "square(): 제곱 함수(arr**2와 동일)\n",
    "exp(): 지수 함수\n",
    "log(),log10(): 로그 함수\n",
    "sign(): 각 요소의 부호(1(양수),0,-1(음수))\n",
    "ceil(): 올림 함수(주어진 수보다 크거나 같은 최소 정수)\n",
    "floor(): 내림 함수(작거나 같은 최대정수)\n",
    "rint(): 반올림\n",
    "isnan(): NaN(Not a Number) 체크(T|F)\n",
    "isfinite(): 유한 체크\n",
    "isinf(): 무한 체크\n",
    "sin(),cos(),tan(): 삼각 함수\n",
    "\"\"\""
   ]
  },
  {
   "cell_type": "code",
   "execution_count": 33,
   "id": "4e7149ae",
   "metadata": {
    "scrolled": true
   },
   "outputs": [
    {
     "name": "stdout",
     "output_type": "stream",
     "text": [
      "연산1\n",
      "[1 2 3]\n",
      "[ 6 23 -1]\n",
      "Result: \n",
      "49\n",
      "49\n",
      "\n",
      "연산2\n",
      "[[1. 2. 3.]\n",
      " [4. 5. 6.]]\n",
      "[[ 6. 23.]\n",
      " [-1.  7.]\n",
      " [ 8.  9.]]\n",
      "Result: \n",
      "[[ 28.  64.]\n",
      " [ 67. 181.]]\n",
      "[[ 98. 127. 156.]\n",
      " [ 27.  33.  39.]\n",
      " [ 44.  61.  78.]]\n"
     ]
    }
   ],
   "source": [
    "# 7. 벡터연산\n",
    "print(\"연산1\")\n",
    "x = np.array([1, 2, 3])\n",
    "print(x)\n",
    "\n",
    "y = np.array([6, 23,-1])\n",
    "print(y)\n",
    "\n",
    "print(\"Result: \")\n",
    "print(x.dot(y.T)) # x'y\n",
    "print(x.T.dot(y)) # x'y\n",
    "\n",
    "print(\"\\n연산2\")\n",
    "x = np.array([[1., 2., 3.], [4., 5., 6.]])\n",
    "print(x)\n",
    "\n",
    "y = np.array([[6., 23.], [-1, 7], [8, 9]])\n",
    "print(y)\n",
    "\n",
    "print(\"Result: \")\n",
    "print(x.dot(y)) # xy\n",
    "print(y.dot(x)) # yx"
   ]
  },
  {
   "cell_type": "code",
   "execution_count": 35,
   "id": "875f5513",
   "metadata": {
    "scrolled": false
   },
   "outputs": [
    {
     "name": "stdout",
     "output_type": "stream",
     "text": [
      "[[1 2 3]\n",
      " [1 0 0]\n",
      " [0 0 1]]\n",
      "\n",
      "\n",
      "[[ 0.   1.   0. ]\n",
      " [ 0.5 -0.5 -1.5]\n",
      " [ 0.   0.   1. ]]\n",
      "\n",
      "Result:\n"
     ]
    },
    {
     "data": {
      "text/plain": [
       "array([[1., 0., 0.],\n",
       "       [0., 1., 0.],\n",
       "       [0., 0., 1.]])"
      ]
     },
     "execution_count": 35,
     "metadata": {},
     "output_type": "execute_result"
    }
   ],
   "source": [
    "# 8. 역행렬\n",
    "import numpy as np\n",
    "from numpy.linalg import inv\n",
    "np.random.seed()\n",
    "X = np.array([[1,2,3],[1,0,0],[0,0,1]])\n",
    "print(X)\n",
    "\n",
    "print(\"\\n\")\n",
    "Y = inv(X)\n",
    "print(Y)\n",
    "\n",
    "print(\"\\nResult:\")\n",
    "X.dot(Y)"
   ]
  },
  {
   "cell_type": "code",
   "execution_count": 36,
   "id": "96f87a3f",
   "metadata": {},
   "outputs": [
    {
     "data": {
      "text/plain": [
       "array([[0.6868658 , 0.84766553, 0.33093663, 0.72856108, 0.04742935],\n",
       "       [0.85064874, 0.38120831, 0.06218342, 0.81467848, 0.03250933],\n",
       "       [0.97255729, 0.16553218, 0.76507149, 0.91312091, 0.54260819],\n",
       "       [0.93721339, 0.34257837, 0.82550015, 0.3777646 , 0.81557004],\n",
       "       [0.0026506 , 0.38791959, 0.67103983, 0.45160249, 0.68050751],\n",
       "       [0.25552688, 0.36194832, 0.56889569, 0.8642353 , 0.80861757],\n",
       "       [0.849119  , 0.12492876, 0.44682158, 0.58055166, 0.19268468],\n",
       "       [0.72294991, 0.88020271, 0.90424926, 0.97146136, 0.0824428 ],\n",
       "       [0.32415466, 0.48914992, 0.06748002, 0.41747648, 0.64967185],\n",
       "       [0.32450431, 0.1906622 , 0.23830597, 0.22748707, 0.43419673],\n",
       "       [0.47217658, 0.57442547, 0.89195709, 0.99432414, 0.97538237],\n",
       "       [0.29028104, 0.42254638, 0.20860567, 0.13103877, 0.50389841],\n",
       "       [0.97017847, 0.58575486, 0.65995225, 0.94835758, 0.02824466],\n",
       "       [0.81445969, 0.22591436, 0.18713161, 0.42495089, 0.72688169],\n",
       "       [0.94418193, 0.4269908 , 0.48960011, 0.63719502, 0.17357913],\n",
       "       [0.55242606, 0.68951879, 0.48910338, 0.67857283, 0.02000062],\n",
       "       [0.2790904 , 0.82423133, 0.6913173 , 0.72456934, 0.53580481],\n",
       "       [0.97455469, 0.69941347, 0.01274993, 0.55329197, 0.25197069],\n",
       "       [0.22989315, 0.52149127, 0.4560521 , 0.257288  , 0.73981741],\n",
       "       [0.12499681, 0.46225486, 0.02394695, 0.7249672 , 0.20670414]])"
      ]
     },
     "execution_count": 36,
     "metadata": {},
     "output_type": "execute_result"
    }
   ],
   "source": [
    "# 9. 균등분포에서 난수생성\n",
    "x = np.random.uniform(size=100)\n",
    "x.reshape(20,5)"
   ]
  },
  {
   "cell_type": "code",
   "execution_count": 37,
   "id": "1a944a4b",
   "metadata": {},
   "outputs": [
    {
     "data": {
      "text/plain": [
       "(array([  7.,  48.,  87., 197., 248., 224., 118.,  55.,  10.,   6.]),\n",
       " array([-3.00224747, -2.36238752, -1.72252756, -1.08266761, -0.44280766,\n",
       "         0.1970523 ,  0.83691225,  1.47677221,  2.11663216,  2.75649211,\n",
       "         3.39635207]),\n",
       " <BarContainer object of 10 artists>)"
      ]
     },
     "execution_count": 37,
     "metadata": {},
     "output_type": "execute_result"
    },
    {
     "data": {
      "image/png": "[encoded data removed]",
      "text/plain": [
       "<Figure size 640x480 with 1 Axes>"
      ]
     },
     "metadata": {},
     "output_type": "display_data"
    }
   ],
   "source": [
    "# 10. 정규분포\n",
    "s = np.random.normal(0, 1, 1000)\n",
    "\n",
    "import matplotlib.pyplot as plt\n",
    "plt.hist(s)"
   ]
  }
 ],
 "metadata": {
  "kernelspec": {
   "display_name": "Python 3 (ipykernel)",
   "language": "python",
   "name": "python3"
  },
  "language_info": {
   "codemirror_mode": {
    "name": "ipython",
    "version": 3
   },
   "file_extension": ".py",
   "mimetype": "text/x-python",
   "name": "python",
   "nbconvert_exporter": "python",
   "pygments_lexer": "ipython3",
   "version": "3.9.13"
  }
 },
 "nbformat": 4,
 "nbformat_minor": 5
}
