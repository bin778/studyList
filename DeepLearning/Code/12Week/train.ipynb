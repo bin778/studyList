{
 "cells": [
  {
   "cell_type": "code",
   "execution_count": 7,
   "id": "1546058b",
   "metadata": {},
   "outputs": [],
   "source": [
    "import sys,os\n",
    "import torch\n",
    "import numpy as np\n",
    "import argparse\n",
    "from dataset.mnist import load_mnist"
   ]
  },
  {
   "cell_type": "code",
   "execution_count": 1,
   "id": "401b05c2",
   "metadata": {},
   "outputs": [],
   "source": [
    "def define_argparser():\n",
    "    p = argparse.ArgumentParser()\n",
    "\n",
    "    p.add_argument('--model_fn', required=True)\n",
    "    p.add_argument('--gpu_id', type=int, default=0 if torch.cuda.is_available() else -1)\n",
    "\n",
    "    p.add_argument('--train_ratio', type=float, default=.8)\n",
    "\n",
    "    p.add_argument('--batch_size', type=int, default=256)\n",
    "    p.add_argument('--n_epochs', type=int, default=20)\n",
    "\n",
    "    p.add_argument('--n_layers', type=int, default=5)\n",
    "    p.add_argument('--use_dropout', action='store_true')\n",
    "    p.add_argument('--dropout_p', type=float, default=.3)\n",
    "\n",
    "    p.add_argument('--verbose', type=int, default=1)\n",
    "\n",
    "    config = p.parse_args()\n",
    "\n",
    "    return config"
   ]
  },
  {
   "cell_type": "code",
   "execution_count": 2,
   "id": "ee67ffa8",
   "metadata": {},
   "outputs": [],
   "source": [
    "def get_hidden_sizes(input_size, output_size, n_layers):\n",
    "    step_size = int((input_size - output_size) / n_layers)\n",
    "\n",
    "    hidden_sizes = []\n",
    "    current_size = input_size\n",
    "    for i in range(n_layers - 1):\n",
    "        hidden_sizes += [current_size - step_size]\n",
    "        current_size = hidden_sizes[-1]\n",
    "\n",
    "    return hidden_sizes"
   ]
  },
  {
   "cell_type": "code",
   "execution_count": 3,
   "id": "32925d28",
   "metadata": {},
   "outputs": [],
   "source": [
    "def get_hidden_sizes(input_size, output_size, n_layers):\n",
    "    step_size = int((input_size - output_size) / n_layers)\n",
    "\n",
    "    hidden_sizes = []\n",
    "    current_size = input_size\n",
    "    for i in range(n_layers - 1):\n",
    "        hidden_sizes += [current_size - step_size]\n",
    "        current_size = hidden_sizes[-1]\n",
    "\n",
    "    return hidden_sizes"
   ]
  },
  {
   "cell_type": "code",
   "execution_count": 4,
   "id": "6c63b154",
   "metadata": {},
   "outputs": [],
   "source": [
    "def main(config):\n",
    "    # Set device based on user defined configuration.\n",
    "    device = torch.device('cpu') if config.gpu_id < 0 else torch.device('cuda:%d' % config.gpu_id)\n",
    "\n",
    "    # Load data and split into train/valid dataset.\n",
    "    x, y = load_mnist(is_train=True, flatten=True)\n",
    "    x, y = split_data(x.to(device), y.to(device), train_ratio=config.train_ratio)\n",
    "\n",
    "    print(\"Train:\", x[0].shape, y[0].shape)\n",
    "    print(\"Valid:\", x[1].shape, y[1].shape)\n",
    "\n",
    "    # Get input/output size to build model for any dataset.\n",
    "    input_size = int(x[0].shape[-1])\n",
    "    output_size = int(max(y[0])) + 1\n",
    "\n",
    "    # Build model using given configuration.\n",
    "    model = ImageClassifier(\n",
    "        input_size=input_size,\n",
    "        output_size=output_size,\n",
    "        hidden_sizes=get_hidden_sizes(input_size,\n",
    "                                      output_size,\n",
    "                                      config.n_layers),\n",
    "        use_batch_norm=not config.use_dropout,\n",
    "        dropout_p=config.dropout_p,\n",
    "    ).to(device)\n",
    "    optimizer = optim.Adam(model.parameters())\n",
    "    crit = nn.NLLLoss()\n",
    "\n",
    "    if config.verbose >= 1:\n",
    "        print(model)\n",
    "        print(optimizer)\n",
    "        print(crit)\n",
    "\n",
    "    # Initialize trainer object.\n",
    "    trainer = Trainer(model, optimizer, crit)\n",
    "\n",
    "    # Start train with given dataset and configuration.\n",
    "    trainer.train(\n",
    "        train_data=(x[0], y[0]),\n",
    "        valid_data=(x[1], y[1]),\n",
    "        config=config\n",
    "    )\n",
    "\n",
    "    # Save best model weights.\n",
    "    torch.save({\n",
    "        'model': trainer.model.state_dict(),\n",
    "        'opt': optimizer.state_dict(),\n",
    "        'config': config,\n",
    "    }, config.model_fn)"
   ]
  },
  {
   "cell_type": "code",
   "execution_count": 8,
   "id": "79540a90",
   "metadata": {},
   "outputs": [
    {
     "name": "stderr",
     "output_type": "stream",
     "text": [
      "usage: ipykernel_launcher.py [-h] --model_fn MODEL_FN [--gpu_id GPU_ID] [--train_ratio TRAIN_RATIO]\n",
      "                             [--batch_size BATCH_SIZE] [--n_epochs N_EPOCHS] [--n_layers N_LAYERS] [--use_dropout]\n",
      "                             [--dropout_p DROPOUT_P] [--verbose VERBOSE]\n",
      "ipykernel_launcher.py: error: the following arguments are required: --model_fn\n"
     ]
    },
    {
     "ename": "SystemExit",
     "evalue": "2",
     "output_type": "error",
     "traceback": [
      "An exception has occurred, use %tb to see the full traceback.\n",
      "\u001b[1;31mSystemExit\u001b[0m\u001b[1;31m:\u001b[0m 2\n"
     ]
    },
    {
     "name": "stderr",
     "output_type": "stream",
     "text": [
      "C:\\ProgramData\\Anaconda3\\lib\\site-packages\\IPython\\core\\interactiveshell.py:3465: UserWarning: To exit: use 'exit', 'quit', or Ctrl-D.\n",
      "  warn(\"To exit: use 'exit', 'quit', or Ctrl-D.\", stacklevel=1)\n"
     ]
    }
   ],
   "source": [
    "if __name__ == '__main__':\n",
    "    config = define_argparser()\n",
    "    main(config)"
   ]
  }
 ],
 "metadata": {
  "kernelspec": {
   "display_name": "Python 3 (ipykernel)",
   "language": "python",
   "name": "python3"
  },
  "language_info": {
   "codemirror_mode": {
    "name": "ipython",
    "version": 3
   },
   "file_extension": ".py",
   "mimetype": "text/x-python",
   "name": "python",
   "nbconvert_exporter": "python",
   "pygments_lexer": "ipython3",
   "version": "3.9.13"
  }
 },
 "nbformat": 4,
 "nbformat_minor": 5
}
