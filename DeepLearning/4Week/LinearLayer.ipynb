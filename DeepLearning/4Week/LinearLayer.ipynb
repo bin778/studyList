{
 "cells": [
  {
   "cell_type": "code",
   "execution_count": 1,
   "id": "4f15f225",
   "metadata": {},
   "outputs": [],
   "source": [
    "import torch\n",
    "import numpy as np"
   ]
  },
  {
   "cell_type": "code",
   "execution_count": 9,
   "id": "a4f6f87c",
   "metadata": {},
   "outputs": [],
   "source": [
    "W=torch.FloatTensor([[1,2],[3,4],[5,6]])\n",
    "b=torch.FloatTensor([2,2])"
   ]
  },
  {
   "cell_type": "code",
   "execution_count": 3,
   "id": "bfbcbf03",
   "metadata": {},
   "outputs": [],
   "source": [
    "def linear(x,W,b):\n",
    "    y=torch.matmul(x,W)+b\n",
    "    \n",
    "    return y"
   ]
  },
  {
   "cell_type": "code",
   "execution_count": 10,
   "id": "c24d4e25",
   "metadata": {},
   "outputs": [
    {
     "name": "stdout",
     "output_type": "stream",
     "text": [
      "torch.Size([4, 2])\n"
     ]
    }
   ],
   "source": [
    "x=torch.FloatTensor(4,3)\n",
    "y=linear(x,W,b)\n",
    "print(y.size())"
   ]
  },
  {
   "cell_type": "code",
   "execution_count": 11,
   "id": "e01313a1",
   "metadata": {},
   "outputs": [],
   "source": [
    "import torch.nn as nn"
   ]
  },
  {
   "cell_type": "code",
   "execution_count": 12,
   "id": "3396a577",
   "metadata": {},
   "outputs": [],
   "source": [
    "class MyLinear(nn.Module):\n",
    "    def __init__(self,input_dim=3,output_dim=2):\n",
    "        self.input_dim=input_dim\n",
    "        self.output_dim=output_dim\n",
    "        \n",
    "        super().__init__()\n",
    "        \n",
    "        self.W=torch.FloatTensor(input_dim,output_dim)\n",
    "        self.b=torch.FloatTensor(output_dim)\n",
    "    \n",
    "    def forward(self,x):\n",
    "        y=torch.matmul(x,self.W)+self.b\n",
    "        \n",
    "        return y"
   ]
  },
  {
   "cell_type": "code",
   "execution_count": 13,
   "id": "8271b511",
   "metadata": {},
   "outputs": [],
   "source": [
    "linear=MyLinear(3,2)\n",
    "\n",
    "y=linear(x)"
   ]
  },
  {
   "cell_type": "code",
   "execution_count": 15,
   "id": "3e21e924",
   "metadata": {},
   "outputs": [],
   "source": [
    "for p in linear.parameters():\n",
    "    print(p)"
   ]
  },
  {
   "cell_type": "code",
   "execution_count": 16,
   "id": "140aa78c",
   "metadata": {},
   "outputs": [],
   "source": [
    "class MyLinear(nn.Module):\n",
    "    def __init__(self,input_dim=3,output_dim=2):\n",
    "        self.input_dim=input_dim\n",
    "        self.output_dim=output_dim\n",
    "        \n",
    "        super().__init__()\n",
    "        \n",
    "        self.W=nn.Parameter(torch.FloatTensor(input_dim,output_dim))\n",
    "        self.b=nn.Parameter(torch.FloatTensor(output_dim))\n",
    "    \n",
    "    def forward(self,x):\n",
    "        y=torch.matmul(x,self.W)+self.b\n",
    "        \n",
    "        return y"
   ]
  },
  {
   "cell_type": "code",
   "execution_count": 17,
   "id": "34d5b40f",
   "metadata": {},
   "outputs": [],
   "source": [
    "for p in linear.parameters():\n",
    "    print(p)"
   ]
  }
 ],
 "metadata": {
  "kernelspec": {
   "display_name": "Python 3 (ipykernel)",
   "language": "python",
   "name": "python3"
  },
  "language_info": {
   "codemirror_mode": {
    "name": "ipython",
    "version": 3
   },
   "file_extension": ".py",
   "mimetype": "text/x-python",
   "name": "python",
   "nbconvert_exporter": "python",
   "pygments_lexer": "ipython3",
   "version": "3.9.13"
  }
 },
 "nbformat": 4,
 "nbformat_minor": 5
}
