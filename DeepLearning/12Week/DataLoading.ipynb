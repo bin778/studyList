{
 "cells": [
  {
   "cell_type": "code",
   "execution_count": 1,
   "id": "cbc8d65a",
   "metadata": {},
   "outputs": [],
   "source": [
    "def load_mnist(is_train=True,flatten=True):\n",
    "    from torchvision import datasets, transforms\n",
    "    \n",
    "    dataset=datasets.MNIST(\n",
    "        '../data',train=is_train,download=True,\n",
    "        transform=transforms.Compose([\n",
    "            transforms.ToTensor(),\n",
    "        ]),\n",
    "    )\n",
    "    \n",
    "    x=dataset.data.float()/255.\n",
    "    y=dataset.targets\n",
    "    \n",
    "    if flatten:\n",
    "        x=x.view(x.size(0),-1)\n",
    "    \n",
    "    return x,y"
   ]
  },
  {
   "cell_type": "code",
   "execution_count": 2,
   "id": "6a838da0",
   "metadata": {},
   "outputs": [],
   "source": [
    "def split_data(x,y,train_radio=.8):\n",
    "    train_cnt=int(x.size(0)*train_ratio)\n",
    "    valid_cnt=x.size(0)-train_cnt\n",
    "    \n",
    "    # Shuffle dataset to split into train/valid set.\n",
    "    indices=torch.randperm(x.size(0))\n",
    "    x=torch.index_select(\n",
    "        x,\n",
    "        dim=0,\n",
    "        index=indices\n",
    "    ).split([train_cnt,valid_cnt],dim=0)\n",
    "    y=torch.index_select(\n",
    "        y,\n",
    "        dim=0,\n",
    "        index=indices\n",
    "    ).split([train_cnt,valid_cnt],dim=0)\n",
    "    \n",
    "    return x,y"
   ]
  }
 ],
 "metadata": {
  "kernelspec": {
   "display_name": "Python 3 (ipykernel)",
   "language": "python",
   "name": "python3"
  },
  "language_info": {
   "codemirror_mode": {
    "name": "ipython",
    "version": 3
   },
   "file_extension": ".py",
   "mimetype": "text/x-python",
   "name": "python",
   "nbconvert_exporter": "python",
   "pygments_lexer": "ipython3",
   "version": "3.9.13"
  }
 },
 "nbformat": 4,
 "nbformat_minor": 5
}
